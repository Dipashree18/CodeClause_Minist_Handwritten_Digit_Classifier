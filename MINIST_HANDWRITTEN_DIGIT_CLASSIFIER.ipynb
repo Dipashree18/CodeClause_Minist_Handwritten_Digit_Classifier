{
  "nbformat": 4,
  "nbformat_minor": 0,
  "metadata": {
    "colab": {
      "provenance": [],
      "authorship_tag": "ABX9TyMOx05HHF8RIaKxKzfghhyo",
      "include_colab_link": true
    },
    "kernelspec": {
      "name": "python3",
      "display_name": "Python 3"
    },
    "language_info": {
      "name": "python"
    }
  },
  "cells": [
    {
      "cell_type": "markdown",
      "metadata": {
        "id": "view-in-github",
        "colab_type": "text"
      },
      "source": [
        "<a href=\"https://colab.research.google.com/github/Dipashree18/CodeClause_Minist_Handwritten_Digit_Classifier/blob/main/MINIST_HANDWRITTEN_DIGIT_CLASSIFIER.ipynb\" target=\"_parent\"><img src=\"https://colab.research.google.com/assets/colab-badge.svg\" alt=\"Open In Colab\"/></a>"
      ]
    },
    {
      "cell_type": "markdown",
      "source": [
        "Perform classification on MNIST handwritten digit dataset using TensorFlow & Keras libraries\n",
        "\n"
      ],
      "metadata": {
        "id": "kMxlBdOd44ZI"
      }
    },
    {
      "cell_type": "code",
      "source": [
        "#Libraries \n",
        "import numpy as np\n",
        "from tensorflow import keras \n",
        "from tensorflow.keras import layers \n",
        "import matplotlib.pyplot as plt "
      ],
      "metadata": {
        "id": "tyj4xeVy47--"
      },
      "execution_count": null,
      "outputs": []
    },
    {
      "cell_type": "code",
      "source": [
        "# model / parameters \n",
        "num_classes = 10\n",
        "input_shape = (28,28,1)"
      ],
      "metadata": {
        "id": "igNFg9xM48NH"
      },
      "execution_count": null,
      "outputs": []
    },
    {
      "cell_type": "code",
      "source": [
        "#load data and split into training and testing data\n",
        "(x_train , y_train) , (x_test , y_test) = keras.datasets.mnist.load_data()"
      ],
      "metadata": {
        "colab": {
          "base_uri": "https://localhost:8080/"
        },
        "id": "kfpYAB5Y5hMV",
        "outputId": "b5d1eabe-5697-41ef-ce9a-907ffa31228c"
      },
      "execution_count": null,
      "outputs": [
        {
          "output_type": "stream",
          "name": "stdout",
          "text": [
            "Downloading data from https://storage.googleapis.com/tensorflow/tf-keras-datasets/mnist.npz\n",
            "11490434/11490434 [==============================] - 0s 0us/step\n"
          ]
        }
      ]
    },
    {
      "cell_type": "code",
      "source": [
        "plt.imshow(x_train[606])\n",
        "plt.show"
      ],
      "metadata": {
        "colab": {
          "base_uri": "https://localhost:8080/",
          "height": 447
        },
        "id": "c1RuziXy58qJ",
        "outputId": "d004bef6-1bc5-4e70-c458-73c2176605d4"
      },
      "execution_count": null,
      "outputs": [
        {
          "output_type": "execute_result",
          "data": {
            "text/plain": [
              "<function matplotlib.pyplot.show(close=None, block=None)>"
            ]
          },
          "metadata": {},
          "execution_count": 4
        },
        {
          "output_type": "display_data",
          "data": {
            "text/plain": [
              "<Figure size 640x480 with 1 Axes>"
            ],
            "image/png": "[encoded data removed]"
          },
          "metadata": {}
        }
      ]
    },
    {
      "cell_type": "code",
      "source": [
        "print(y_train[606])"
      ],
      "metadata": {
        "colab": {
          "base_uri": "https://localhost:8080/"
        },
        "id": "SF0oUo_F6I_R",
        "outputId": "dfb0abfc-f16c-45aa-f550-3a3a12ad22fa"
      },
      "execution_count": null,
      "outputs": [
        {
          "output_type": "stream",
          "name": "stdout",
          "text": [
            "4\n"
          ]
        }
      ]
    },
    {
      "cell_type": "code",
      "source": [
        "print(np.unique(y_train))\n",
        "print(np.unique(y_test))"
      ],
      "metadata": {
        "colab": {
          "base_uri": "https://localhost:8080/"
        },
        "id": "KN7_yFAs6TYH",
        "outputId": "7d3e40be-921f-48fb-b361-e8700a7fea95"
      },
      "execution_count": null,
      "outputs": [
        {
          "output_type": "stream",
          "name": "stdout",
          "text": [
            "[0 1 2 3 4 5 6 7 8 9]\n",
            "[0 1 2 3 4 5 6 7 8 9]\n"
          ]
        }
      ]
    },
    {
      "cell_type": "code",
      "source": [
        "#scale the value between 0 and 1 \n",
        "x_train = x_train.astype(\"float32\")/255\n",
        "x_test = x_test.astype(\"float32\")/255"
      ],
      "metadata": {
        "id": "rZkfaPbK6rg7"
      },
      "execution_count": null,
      "outputs": []
    },
    {
      "cell_type": "code",
      "source": [
        "#make sure image has size of 28x28\n",
        "x_train = np.expand_dims(x_train , -1)\n",
        "x_test = np.expand_dims(x_test , -1)\n",
        "print(\"x_train shape \" , x_train.shape)\n",
        "print(x_train.shape[0])\n",
        "print(x_test.shape[0])"
      ],
      "metadata": {
        "colab": {
          "base_uri": "https://localhost:8080/"
        },
        "id": "HLbNg0Fa7GCB",
        "outputId": "10f196e5-bc83-44a1-8522-029317997a53"
      },
      "execution_count": null,
      "outputs": [
        {
          "output_type": "stream",
          "name": "stdout",
          "text": [
            "x_train shape  (60000, 28, 28, 1)\n",
            "60000\n",
            "10000\n"
          ]
        }
      ]
    },
    {
      "cell_type": "code",
      "source": [
        "#from tensorflow.python.data import util\n",
        "#conevrt the class vectors to binary class \n",
        "y_train = keras.utils.to_categorical(y_train,num_classes)\n",
        "y_test = keras.utils.to_categorical(y_test , num_classes )"
      ],
      "metadata": {
        "id": "WPVTf6dr71Yf"
      },
      "execution_count": null,
      "outputs": []
    },
    {
      "cell_type": "code",
      "source": [
        "model = keras.Sequential (\n",
        "    [\n",
        "        keras.Input(shape = input_shape),\n",
        "        layers.Conv2D(32 , kernel_size = (3,3) , activation = \"relu\"),\n",
        "        layers.MaxPooling2D(pool_size = (2,2)),\n",
        "        layers.Conv2D(64 , kernel_size = (3,3) , activation = \"relu\"),\n",
        "        layers.MaxPooling2D(pool_size = (2,2)),\n",
        "        layers.Flatten(),\n",
        "        layers.Dropout(0.5),\n",
        "        layers.Dense(num_classes, activation = \"softmax\"),\n",
        "    ]\n",
        ")\n",
        "model.summary()"
      ],
      "metadata": {
        "colab": {
          "base_uri": "https://localhost:8080/"
        },
        "id": "yGnM7in48lMO",
        "outputId": "fe7cab96-15d4-4bad-ec1c-5989342ff76d"
      },
      "execution_count": null,
      "outputs": [
        {
          "output_type": "stream",
          "name": "stdout",
          "text": [
            "Model: \"sequential\"\n",
            "_________________________________________________________________\n",
            " Layer (type)                Output Shape              Param #   \n",
            "=================================================================\n",
            " conv2d (Conv2D)             (None, 26, 26, 32)        320       \n",
            "                                                                 \n",
            " max_pooling2d (MaxPooling2D  (None, 13, 13, 32)       0         \n",
            " )                                                               \n",
            "                                                                 \n",
            " conv2d_1 (Conv2D)           (None, 11, 11, 64)        18496     \n",
            "                                                                 \n",
            " max_pooling2d_1 (MaxPooling  (None, 5, 5, 64)         0         \n",
            " 2D)                                                             \n",
            "                                                                 \n",
            " flatten (Flatten)           (None, 1600)              0         \n",
            "                                                                 \n",
            " dropout (Dropout)           (None, 1600)              0         \n",
            "                                                                 \n",
            " dense (Dense)               (None, 10)                16010     \n",
            "                                                                 \n",
            "=================================================================\n",
            "Total params: 34,826\n",
            "Trainable params: 34,826\n",
            "Non-trainable params: 0\n",
            "_________________________________________________________________\n"
          ]
        }
      ]
    },
    {
      "cell_type": "code",
      "source": [
        "batch_size = 128\n",
        "epochs = 15\n",
        "\n",
        "model.compile(loss=\"categorical_crossentropy\" , optimizer = \"adam\" , metrics=[\"accuracy\"])\n",
        "model.fit(x_train,y_train,batch_size = batch_size,epochs = epochs,validation_split = 0.1)"
      ],
      "metadata": {
        "colab": {
          "base_uri": "https://localhost:8080/"
        },
        "id": "LOgrx2hU-NuI",
        "outputId": "12432016-fed3-414d-94a2-d8b6c398d4af"
      },
      "execution_count": null,
      "outputs": [
        {
          "output_type": "stream",
          "name": "stdout",
          "text": [
            "Epoch 1/15\n",
            "422/422 [==============================] - 49s 113ms/step - loss: 0.3740 - accuracy: 0.8874 - val_loss: 0.0864 - val_accuracy: 0.9757\n",
            "Epoch 2/15\n",
            "422/422 [==============================] - 45s 106ms/step - loss: 0.1167 - accuracy: 0.9638 - val_loss: 0.0571 - val_accuracy: 0.9842\n",
            "Epoch 3/15\n",
            "422/422 [==============================] - 45s 107ms/step - loss: 0.0880 - accuracy: 0.9732 - val_loss: 0.0520 - val_accuracy: 0.9855\n",
            "Epoch 4/15\n",
            "422/422 [==============================] - 44s 104ms/step - loss: 0.0724 - accuracy: 0.9781 - val_loss: 0.0484 - val_accuracy: 0.9872\n",
            "Epoch 5/15\n",
            "422/422 [==============================] - 45s 106ms/step - loss: 0.0647 - accuracy: 0.9802 - val_loss: 0.0415 - val_accuracy: 0.9895\n",
            "Epoch 6/15\n",
            "422/422 [==============================] - 43s 102ms/step - loss: 0.0613 - accuracy: 0.9804 - val_loss: 0.0390 - val_accuracy: 0.9883\n",
            "Epoch 7/15\n",
            "422/422 [==============================] - 43s 102ms/step - loss: 0.0551 - accuracy: 0.9835 - val_loss: 0.0344 - val_accuracy: 0.9900\n",
            "Epoch 8/15\n",
            "422/422 [==============================] - 44s 105ms/step - loss: 0.0507 - accuracy: 0.9839 - val_loss: 0.0357 - val_accuracy: 0.9898\n",
            "Epoch 9/15\n",
            "422/422 [==============================] - 43s 102ms/step - loss: 0.0479 - accuracy: 0.9850 - val_loss: 0.0314 - val_accuracy: 0.9920\n",
            "Epoch 10/15\n",
            "422/422 [==============================] - 43s 101ms/step - loss: 0.0432 - accuracy: 0.9860 - val_loss: 0.0322 - val_accuracy: 0.9912\n",
            "Epoch 11/15\n",
            "422/422 [==============================] - 44s 105ms/step - loss: 0.0415 - accuracy: 0.9864 - val_loss: 0.0306 - val_accuracy: 0.9907\n",
            "Epoch 12/15\n",
            "422/422 [==============================] - 43s 102ms/step - loss: 0.0385 - accuracy: 0.9881 - val_loss: 0.0293 - val_accuracy: 0.9925\n",
            "Epoch 13/15\n",
            "422/422 [==============================] - 42s 101ms/step - loss: 0.0383 - accuracy: 0.9880 - val_loss: 0.0305 - val_accuracy: 0.9920\n",
            "Epoch 14/15\n",
            "422/422 [==============================] - 44s 103ms/step - loss: 0.0355 - accuracy: 0.9883 - val_loss: 0.0300 - val_accuracy: 0.9910\n",
            "Epoch 15/15\n",
            "422/422 [==============================] - 43s 101ms/step - loss: 0.0343 - accuracy: 0.9887 - val_loss: 0.0299 - val_accuracy: 0.9922\n"
          ]
        },
        {
          "output_type": "execute_result",
          "data": {
            "text/plain": [
              "<keras.callbacks.History at 0x7f4a7e4e84f0>"
            ]
          },
          "metadata": {},
          "execution_count": 11
        }
      ]
    },
    {
      "cell_type": "code",
      "source": [
        "score  = model.evaluate(x_test , y_test)\n",
        "print(\"Loss\" , score[0])\n",
        "print(\"Accuracy\" , score[1])"
      ],
      "metadata": {
        "colab": {
          "base_uri": "https://localhost:8080/"
        },
        "id": "wCx2nKJoDRKQ",
        "outputId": "33c9d833-ac0a-4ec1-afe5-747ed44d603e"
      },
      "execution_count": null,
      "outputs": [
        {
          "output_type": "stream",
          "name": "stdout",
          "text": [
            "313/313 [==============================] - 2s 7ms/step - loss: 0.0266 - accuracy: 0.9906\n",
            "Loss 0.02664903551340103\n",
            "Accuracy 0.9905999898910522\n"
          ]
        }
      ]
    },
    {
      "cell_type": "code",
      "source": [
        "import cv2\n",
        "from google.colab.patches import cv2_imshow \n",
        "from PIL import Image \n",
        "\n",
        "input_image = cv2.imread('/content/Number-4-coloring-page-.jpg.webp')\n",
        "cv2_imshow(input_image)"
      ],
      "metadata": {
        "colab": {
          "base_uri": "https://localhost:8080/",
          "height": 617
        },
        "id": "WLPsK5v2DRTe",
        "outputId": "14065886-7049-425c-c1f3-fbbb0cdc8a2b"
      },
      "execution_count": null,
      "outputs": [
        {
          "output_type": "display_data",
          "data": {
            "text/plain": [
              "<PIL.Image.Image image mode=RGB size=450x600 at 0x7F4A81B797E0>"
            ],
            "image/png": "[encoded data removed]"
          },
          "metadata": {}
        }
      ]
    },
    {
      "cell_type": "code",
      "source": [
        "grayscale=cv2.cvtColor(input_image,cv2.COLOR_RGB2GRAY)\n",
        "input_image_resize=cv2.resize(grayscale,(28,28))\n",
        "input_image_resize=input_image_resize/255\n",
        "image_reshaped=np.reshape(input_image_resize,[1,28,28])\n",
        "input_prediction=model.predict(image_reshaped)\n",
        "input_pred_label=np.argmax(input_prediction)\n",
        "print('Handwritten digit is recognized as',input_pred_label)"
      ],
      "metadata": {
        "colab": {
          "base_uri": "https://localhost:8080/"
        },
        "id": "b-xpb_4dEyCK",
        "outputId": "93f64f97-e657-4440-ba86-62dd441577ef"
      },
      "execution_count": null,
      "outputs": [
        {
          "output_type": "stream",
          "name": "stdout",
          "text": [
            "1/1 [==============================] - 0s 106ms/step\n",
            "Handwritten digit is recognized as 4\n"
          ]
        }
      ]
    }
  ]
}